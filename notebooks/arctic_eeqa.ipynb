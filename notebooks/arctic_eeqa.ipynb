{
 "cells": [
  {
   "cell_type": "code",
   "execution_count": 1,
   "id": "designing-invite",
   "metadata": {},
   "outputs": [],
   "source": [
    "import ktrain \n",
    "from ktrain import text"
   ]
  },
  {
   "cell_type": "code",
   "execution_count": 2,
   "id": "loaded-heaven",
   "metadata": {},
   "outputs": [],
   "source": [
    "index_dir = 'tmp/'"
   ]
  },
  {
   "cell_type": "code",
   "execution_count": 3,
   "id": "noble-birmingham",
   "metadata": {},
   "outputs": [],
   "source": [
    "import os\n",
    "from pyprojroot import here\n",
    "\n",
    "data_output = str(here(\"data-output\"))\n",
    "# docs = data_output + \"/\" + os.listdir(data_output)"
   ]
  },
  {
   "cell_type": "code",
   "execution_count": 4,
   "id": "informational-williams",
   "metadata": {},
   "outputs": [
    {
     "name": "stdout",
     "output_type": "stream",
     "text": [
      "500 docs indexed\n",
      "1000 docs indexed\n",
      "1500 docs indexed\n"
     ]
    },
    {
     "name": "stderr",
     "output_type": "stream",
     "text": [
      "c:\\users\\ecohen\\miniconda3\\envs\\kt\\lib\\site-packages\\ktrain\\text\\qa\\core.py:486: UserWarning: Could not extract text from C:\\Users\\ecohen\\Documents\\repositories\\iarpc\\data-output\\file_num_620.pdf\n",
      "  warnings.warn('Could not extract text from %s' % (fpath))\n"
     ]
    },
    {
     "name": "stdout",
     "output_type": "stream",
     "text": [
      "2000 docs indexed\n"
     ]
    }
   ],
   "source": [
    "text.SimpleQA.initialize_index(index_dir)\n",
    "text.SimpleQA.index_from_folder(\n",
    "    data_output, \n",
    "    index_dir, \n",
    "    commit_every=500, \n",
    "    multisegment=True, \n",
    "    procs=4,\n",
    "    breakup_docs=True, \n",
    "    use_text_extraction=True\n",
    ")"
   ]
  },
  {
   "cell_type": "code",
   "execution_count": 5,
   "id": "different-wagon",
   "metadata": {},
   "outputs": [],
   "source": [
    "qa = text.SimpleQA(index_dir)"
   ]
  },
  {
   "cell_type": "code",
   "execution_count": 6,
   "id": "productive-jamaica",
   "metadata": {},
   "outputs": [
    {
     "data": {
      "text/html": [],
      "text/plain": [
       "<IPython.core.display.HTML object>"
      ]
     },
     "metadata": {},
     "output_type": "display_data"
    },
    {
     "data": {
      "text/html": [
       "<table border=\"1\" class=\"dataframe\">\n",
       "  <thead>\n",
       "    <tr style=\"text-align: right;\">\n",
       "      <th></th>\n",
       "      <th>Candidate Answer</th>\n",
       "      <th>Context</th>\n",
       "      <th>Confidence</th>\n",
       "      <th>Document Reference</th>\n",
       "    </tr>\n",
       "  </thead>\n",
       "  <tbody>\n",
       "    <tr>\n",
       "      <th>0</th>\n",
       "      <td>arctic program office</td>\n",
       "      <td><div> <font color='red'>arctic program office</font> .</div></td>\n",
       "      <td>0.554976</td>\n",
       "      <td>file_num_1964.pdf</td>\n",
       "    </tr>\n",
       "    <tr>\n",
       "      <th>1</th>\n",
       "      <td>subtitle c — arctic coast guard arctic prioritization</td>\n",
       "      <td><div> <font color='red'>subtitle c — arctic coast guard arctic prioritization</font> .</div></td>\n",
       "      <td>0.234646</td>\n",
       "      <td>file_num_1119.pdf</td>\n",
       "    </tr>\n",
       "    <tr>\n",
       "      <th>2</th>\n",
       "      <td>1372 states to this emerging strategic choke point of increasing great power competition</td>\n",
       "      <td><div> <font color='red'>1372 states to this emerging strategic choke point of increasing great power competition</font> .</div></td>\n",
       "      <td>0.136680</td>\n",
       "      <td>file_num_1119.pdf</td>\n",
       "    </tr>\n",
       "    <tr>\n",
       "      <th>3</th>\n",
       "      <td>the arctic shipping federal advisory committee</td>\n",
       "      <td><div> <font color='red'>the arctic shipping federal advisory committee</font>  (advisory committee), once established, would be comprised of 15 members tasked with developing a set of policy recommendations to enhance the united states ’ leadership role in improving the safety and reliability of maritime transportation and protecting the environment in the arctic region.</div></td>\n",
       "      <td>0.073698</td>\n",
       "      <td>file_num_1794.pdf</td>\n",
       "    </tr>\n",
       "  </tbody>\n",
       "</table>"
      ],
      "text/plain": [
       "<IPython.core.display.HTML object>"
      ]
     },
     "metadata": {},
     "output_type": "display_data"
    }
   ],
   "source": [
    "answers = qa.ask('arctic')\n",
    "qa.display_answers(answers)"
   ]
  },
  {
   "cell_type": "code",
   "execution_count": 7,
   "id": "legitimate-frank",
   "metadata": {},
   "outputs": [
    {
     "data": {
      "text/html": [],
      "text/plain": [
       "<IPython.core.display.HTML object>"
      ]
     },
     "metadata": {},
     "output_type": "display_data"
    },
    {
     "data": {
      "text/html": [
       "<table border=\"1\" class=\"dataframe\">\n",
       "  <thead>\n",
       "    <tr style=\"text-align: right;\">\n",
       "      <th></th>\n",
       "      <th>Candidate Answer</th>\n",
       "      <th>Context</th>\n",
       "      <th>Confidence</th>\n",
       "      <th>Document Reference</th>\n",
       "    </tr>\n",
       "  </thead>\n",
       "  <tbody>\n",
       "    <tr>\n",
       "      <th>0</th>\n",
       "      <td>regarding antarctica within the committee ’ s jurisdiction</td>\n",
       "      <td><div> (13) all matters  <font color='red'>regarding antarctica within the committee ’ s jurisdiction</font> .</div></td>\n",
       "      <td>0.679727</td>\n",
       "      <td>file_num_2018.pdf</td>\n",
       "    </tr>\n",
       "    <tr>\n",
       "      <th>1</th>\n",
       "      <td>; territorial policy (including changes in status and issues affecting antarctica</td>\n",
       "      <td><div>during the 115th congress, the full committee retained jurisdiction, without reference to a subcommittee, over the following matters : national energy policy, including international energy affairs and emergency preparedness ; nuclear waste policy ; privatization of federal assets  <font color='red'>; territorial policy (including changes in status and issues affecting antarctica</font> ) ; native hawaiian matters ; and ad hoc issues.</div></td>\n",
       "      <td>0.320273</td>\n",
       "      <td>file_num_2181.pdf</td>\n",
       "    </tr>\n",
       "  </tbody>\n",
       "</table>"
      ],
      "text/plain": [
       "<IPython.core.display.HTML object>"
      ]
     },
     "metadata": {},
     "output_type": "display_data"
    }
   ],
   "source": [
    "answers = qa.ask('Antarctica')\n",
    "qa.display_answers(answers)"
   ]
  },
  {
   "cell_type": "code",
   "execution_count": null,
   "id": "painted-payday",
   "metadata": {},
   "outputs": [],
   "source": []
  }
 ],
 "metadata": {
  "kernelspec": {
   "display_name": "Python 3",
   "language": "python",
   "name": "python3"
  },
  "language_info": {
   "codemirror_mode": {
    "name": "ipython",
    "version": 3
   },
   "file_extension": ".py",
   "mimetype": "text/x-python",
   "name": "python",
   "nbconvert_exporter": "python",
   "pygments_lexer": "ipython3",
   "version": "3.7.9"
  }
 },
 "nbformat": 4,
 "nbformat_minor": 5
}
