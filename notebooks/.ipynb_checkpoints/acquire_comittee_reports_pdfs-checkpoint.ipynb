{
 "cells": [
  {
   "cell_type": "markdown",
   "id": "incident-assurance",
   "metadata": {},
   "source": [
    "# Acquiring Legislation PDFs from Congress.gov\n",
    "\n",
    "IARPC Project\n",
    "Erick Cohen"
   ]
  },
  {
   "cell_type": "code",
   "execution_count": 1,
   "id": "respected-airline",
   "metadata": {},
   "outputs": [],
   "source": [
    "import os\n",
    "import urllib\n",
    "from pathlib import Path\n",
    "import pandas as pd\n",
    "from pyprojroot import here\n",
    "import random"
   ]
  },
  {
   "cell_type": "code",
   "execution_count": 2,
   "id": "municipal-daily",
   "metadata": {},
   "outputs": [],
   "source": [
    "# data_raw_path = here(\"data-raw\")\n",
    "li = []\n",
    "\n",
    "data_raw_path = '../data-raw'\n",
    "\n",
    "committee_exports = [filename for filename in os.listdir(data_raw_path) if filename.endswith('.csv')]\n",
    "\n",
    "for file in committee_exports:\n",
    "    search_results_filename = file\n",
    "    search_results_filepath = (str(data_raw_path) + \"/\" + search_results_filename)\n",
    "    df = pd.read_csv(search_results_filepath, skiprows=3)\n",
    "    li.append(df)\n",
    "\n",
    "search_results_df = pd.concat(li, axis=0, ignore_index=True)"
   ]
  },
  {
   "cell_type": "code",
   "execution_count": 3,
   "id": "attractive-tension",
   "metadata": {},
   "outputs": [
    {
     "data": {
      "text/plain": [
       "(4016, 6)"
      ]
     },
     "execution_count": 3,
     "metadata": {},
     "output_type": "execute_result"
    }
   ],
   "source": [
    "search_results_df.shape"
   ]
  },
  {
   "cell_type": "code",
   "execution_count": 4,
   "id": "criminal-notion",
   "metadata": {},
   "outputs": [
    {
     "data": {
      "text/plain": [
       "(2230, 6)"
      ]
     },
     "execution_count": 4,
     "metadata": {},
     "output_type": "execute_result"
    }
   ],
   "source": [
    "# remove duplicate entries\n",
    "search_results_df.drop_duplicates(inplace=True)\n",
    "search_results_df.shape"
   ]
  },
  {
   "cell_type": "code",
   "execution_count": 5,
   "id": "comfortable-princeton",
   "metadata": {},
   "outputs": [
    {
     "data": {
      "text/html": [
       "<div>\n",
       "<style scoped>\n",
       "    .dataframe tbody tr th:only-of-type {\n",
       "        vertical-align: middle;\n",
       "    }\n",
       "\n",
       "    .dataframe tbody tr th {\n",
       "        vertical-align: top;\n",
       "    }\n",
       "\n",
       "    .dataframe thead th {\n",
       "        text-align: right;\n",
       "    }\n",
       "</style>\n",
       "<table border=\"1\" class=\"dataframe\">\n",
       "  <thead>\n",
       "    <tr style=\"text-align: right;\">\n",
       "      <th></th>\n",
       "      <th>Report Number</th>\n",
       "      <th>URL</th>\n",
       "      <th>Congress</th>\n",
       "      <th>Accompanies</th>\n",
       "      <th>Title</th>\n",
       "      <th>Committee</th>\n",
       "    </tr>\n",
       "  </thead>\n",
       "  <tbody>\n",
       "    <tr>\n",
       "      <th>0</th>\n",
       "      <td>H. Rept. 117-12</td>\n",
       "      <td>https://www.congress.gov/congressional-report/...</td>\n",
       "      <td>117th Congress (2021-2022)</td>\n",
       "      <td>H.Res. 233</td>\n",
       "      <td>PROVIDING FOR CONSIDERATION OF THE BILL (H.R. ...</td>\n",
       "      <td>House Rules</td>\n",
       "    </tr>\n",
       "    <tr>\n",
       "      <th>1</th>\n",
       "      <td>H. Rept. 117-11</td>\n",
       "      <td>https://www.congress.gov/congressional-report/...</td>\n",
       "      <td>117th Congress (2021-2022)</td>\n",
       "      <td>H.Res. 198</td>\n",
       "      <td>PROVIDING FOR CONSIDERATION OF THE SENATE AMEN...</td>\n",
       "      <td>House Rules</td>\n",
       "    </tr>\n",
       "    <tr>\n",
       "      <th>2</th>\n",
       "      <td>H. Rept. 117-10</td>\n",
       "      <td>https://www.congress.gov/congressional-report/...</td>\n",
       "      <td>117th Congress (2021-2022)</td>\n",
       "      <td>H.Res. 188</td>\n",
       "      <td>PROVIDING FOR CONSIDERATION OF THE BILL (H.R. ...</td>\n",
       "      <td>House Rules</td>\n",
       "    </tr>\n",
       "    <tr>\n",
       "      <th>3</th>\n",
       "      <td>H. Rept. 117-9</td>\n",
       "      <td>https://www.congress.gov/congressional-report/...</td>\n",
       "      <td>117th Congress (2021-2022)</td>\n",
       "      <td>H.Res. 179</td>\n",
       "      <td>PROVIDING FOR CONSIDERATION OF THE BILL (H.R. ...</td>\n",
       "      <td>House Rules</td>\n",
       "    </tr>\n",
       "    <tr>\n",
       "      <th>4</th>\n",
       "      <td>H. Rept. 117-8</td>\n",
       "      <td>https://www.congress.gov/congressional-report/...</td>\n",
       "      <td>117th Congress (2021-2022)</td>\n",
       "      <td>H.Res. 166</td>\n",
       "      <td>PROVIDING FOR CONSIDERATION OF THE BILL (H.R. ...</td>\n",
       "      <td>House Rules</td>\n",
       "    </tr>\n",
       "  </tbody>\n",
       "</table>\n",
       "</div>"
      ],
      "text/plain": [
       "     Report Number                                                URL  \\\n",
       "0  H. Rept. 117-12  https://www.congress.gov/congressional-report/...   \n",
       "1  H. Rept. 117-11  https://www.congress.gov/congressional-report/...   \n",
       "2  H. Rept. 117-10  https://www.congress.gov/congressional-report/...   \n",
       "3   H. Rept. 117-9  https://www.congress.gov/congressional-report/...   \n",
       "4   H. Rept. 117-8  https://www.congress.gov/congressional-report/...   \n",
       "\n",
       "                     Congress Accompanies  \\\n",
       "0  117th Congress (2021-2022)  H.Res. 233   \n",
       "1  117th Congress (2021-2022)  H.Res. 198   \n",
       "2  117th Congress (2021-2022)  H.Res. 188   \n",
       "3  117th Congress (2021-2022)  H.Res. 179   \n",
       "4  117th Congress (2021-2022)  H.Res. 166   \n",
       "\n",
       "                                               Title    Committee  \n",
       "0  PROVIDING FOR CONSIDERATION OF THE BILL (H.R. ...  House Rules  \n",
       "1  PROVIDING FOR CONSIDERATION OF THE SENATE AMEN...  House Rules  \n",
       "2  PROVIDING FOR CONSIDERATION OF THE BILL (H.R. ...  House Rules  \n",
       "3  PROVIDING FOR CONSIDERATION OF THE BILL (H.R. ...  House Rules  \n",
       "4  PROVIDING FOR CONSIDERATION OF THE BILL (H.R. ...  House Rules  "
      ]
     },
     "execution_count": 5,
     "metadata": {},
     "output_type": "execute_result"
    }
   ],
   "source": [
    "search_results_df.head()"
   ]
  },
  {
   "cell_type": "markdown",
   "id": "intermediate-panel",
   "metadata": {},
   "source": [
    "We are interested in the URL. We will attempt to parse through them and download .PDFs of the bills if available"
   ]
  },
  {
   "cell_type": "code",
   "execution_count": 6,
   "id": "detected-parliament",
   "metadata": {},
   "outputs": [
    {
     "data": {
      "text/plain": [
       "0       https://www.congress.gov/congressional-report/...\n",
       "1       https://www.congress.gov/congressional-report/...\n",
       "2       https://www.congress.gov/congressional-report/...\n",
       "3       https://www.congress.gov/congressional-report/...\n",
       "4       https://www.congress.gov/congressional-report/...\n",
       "                              ...                        \n",
       "3821    https://www.congress.gov/congressional-report/...\n",
       "3822    https://www.congress.gov/congressional-report/...\n",
       "3823    https://www.congress.gov/congressional-report/...\n",
       "3824    https://www.congress.gov/congressional-report/...\n",
       "3825    https://www.congress.gov/congressional-report/...\n",
       "Name: URL, Length: 2230, dtype: object"
      ]
     },
     "execution_count": 6,
     "metadata": {},
     "output_type": "execute_result"
    }
   ],
   "source": [
    "url = search_results_df.URL \n",
    "# url = url.apply(lambda x: x.strip('https://'))\n",
    "# url = url.apply(lambda x: r'https://' + x)\n",
    "url"
   ]
  },
  {
   "cell_type": "code",
   "execution_count": 7,
   "id": "whole-wisdom",
   "metadata": {},
   "outputs": [],
   "source": [
    "import requests\n",
    "from bs4 import BeautifulSoup\n",
    "\n",
    "\n",
    "headers = {\n",
    "    'Access-Control-Allow-Origin': '*',\n",
    "    'Access-Control-Allow-Methods': 'GET',\n",
    "    'Access-Control-Allow-Headers': 'Content-Type',\n",
    "    'Access-Control-Max-Age': '3600',\n",
    "    'User-Agent': 'Mozilla/5.0 (X11; Ubuntu; Linux x86_64; rv:52.0) Gecko/20100101 Firefox/52.0'\n",
    "    }"
   ]
  },
  {
   "cell_type": "code",
   "execution_count": 8,
   "id": "interested-speed",
   "metadata": {},
   "outputs": [],
   "source": [
    "data_output_path = here(\"data-output\")\n",
    "\n",
    "# Function to itterate through each of the URLs from the dataframe \n",
    "import requests\n",
    "import time # make sure we sleep to not overwhelm the servers\n",
    "import re\n",
    "\n",
    "def acquire_pdf(url, create_cache=False):\n",
    "    \"\"\"\n",
    "    Acquires PDF of committee from congress.gov\n",
    "    \n",
    "    needs url that can be exported from search results. \n",
    "    \n",
    "    create_cache(Bool): if True, creates a cache.txt file with the url and text status\n",
    "    \n",
    "    I.e. https://www.congress.gov/search?q={%22source%22:%22legislation%22,%22congress%22:[%22117%22,%22116%22],%22bill-status%22:%22law%22}&searchResultViewType=expanded\n",
    "    \"\"\"\n",
    "    if create_cache:\n",
    "        if 'cache.txt' not in os.listdir():\n",
    "            file = open(\"cache.txt\", \"x\") \n",
    "            file.close() \n",
    "            print('cache.txt created')\n",
    "        else: \n",
    "            pass\n",
    "    else:\n",
    "        pass\n",
    "    \n",
    "    print(url)\n",
    "    url_cleaned = re.sub('[:/.//-]+', '', url)\n",
    "    \n",
    "    with open('cache.txt', 'r') as c:\n",
    "        cache = c.read()\n",
    "        \n",
    "    if url in cache:\n",
    "        print('URL in Cache - file skipped.')\n",
    "    else:\n",
    "    \n",
    "        req = requests.get(url, headers)\n",
    "        soup = BeautifulSoup(req.content, 'html.parser')\n",
    "\n",
    "        time.sleep(random.randrange(3, 6))\n",
    "\n",
    "        links = []\n",
    "        for a in soup.find_all('div', attrs={'id' : 'report'}):\n",
    "            for b in a.findChildren():\n",
    "                link = (b.get('href'))\n",
    "                if link != None:\n",
    "                    links.append(link)\n",
    "\n",
    "\n",
    "        pdf_path_url = [] \n",
    "        for l in links:\n",
    "            if l.endswith(\".pdf\"):\n",
    "                pdf_path_url.append(l)\n",
    "\n",
    "\n",
    "        base_path = r'https://www.congress.gov'\n",
    "\n",
    "        try:\n",
    "            if len(pdf_path_url) < 1:\n",
    "                print(\"No PDF found\")\n",
    "                outcome = 'no PDF found'\n",
    "\n",
    "            else:\n",
    "                pdf_path = base_path + pdf_path_url[0]\n",
    "\n",
    "                res = requests.get(pdf_path)\n",
    "\n",
    "                f = open('../data-output/' + str(url_cleaned) + '.pdf', 'wb')\n",
    "                f.write(res.content)\n",
    "                f.close()\n",
    "                print('text saved!')\n",
    "                outcome = 'text saved'\n",
    "\n",
    "        except:\n",
    "            print('Unknown error')\n",
    "            outcome = 'unknown error'\n",
    "\n",
    "        with open('cache.txt', 'a') as f:\n",
    "                f.write(str(url) + '\\t' + outcome + '\\n')"
   ]
  },
  {
   "cell_type": "code",
   "execution_count": 10,
   "id": "external-shuttle",
   "metadata": {},
   "outputs": [
    {
     "name": "stdout",
     "output_type": "stream",
     "text": [
      "https://www.congress.gov/congressional-report/117th-congress/house-report/12/1\n",
      "URL in Cache - file skipped.\n",
      "https://www.congress.gov/congressional-report/117th-congress/house-report/11/1\n",
      "URL in Cache - file skipped.\n",
      "https://www.congress.gov/congressional-report/117th-congress/house-report/10/1\n",
      "URL in Cache - file skipped.\n",
      "https://www.congress.gov/congressional-report/117th-congress/house-report/9/1\n",
      "text saved!\n",
      "https://www.congress.gov/congressional-report/117th-congress/house-report/8/1\n"
     ]
    },
    {
     "ename": "KeyboardInterrupt",
     "evalue": "",
     "output_type": "error",
     "traceback": [
      "\u001b[1;31m---------------------------------------------------------------------------\u001b[0m",
      "\u001b[1;31mKeyboardInterrupt\u001b[0m                         Traceback (most recent call last)",
      "\u001b[1;32m<timed exec>\u001b[0m in \u001b[0;36m<module>\u001b[1;34m\u001b[0m\n",
      "\u001b[1;32m<ipython-input-8-29d361874fe7>\u001b[0m in \u001b[0;36macquire_pdf\u001b[1;34m(url, create_cache)\u001b[0m\n\u001b[0;32m     37\u001b[0m         \u001b[0msoup\u001b[0m \u001b[1;33m=\u001b[0m \u001b[0mBeautifulSoup\u001b[0m\u001b[1;33m(\u001b[0m\u001b[0mreq\u001b[0m\u001b[1;33m.\u001b[0m\u001b[0mcontent\u001b[0m\u001b[1;33m,\u001b[0m \u001b[1;34m'html.parser'\u001b[0m\u001b[1;33m)\u001b[0m\u001b[1;33m\u001b[0m\u001b[1;33m\u001b[0m\u001b[0m\n\u001b[0;32m     38\u001b[0m \u001b[1;33m\u001b[0m\u001b[0m\n\u001b[1;32m---> 39\u001b[1;33m         \u001b[0mtime\u001b[0m\u001b[1;33m.\u001b[0m\u001b[0msleep\u001b[0m\u001b[1;33m(\u001b[0m\u001b[0mrandom\u001b[0m\u001b[1;33m.\u001b[0m\u001b[0mrandrange\u001b[0m\u001b[1;33m(\u001b[0m\u001b[1;36m3\u001b[0m\u001b[1;33m,\u001b[0m \u001b[1;36m6\u001b[0m\u001b[1;33m)\u001b[0m\u001b[1;33m)\u001b[0m\u001b[1;33m\u001b[0m\u001b[1;33m\u001b[0m\u001b[0m\n\u001b[0m\u001b[0;32m     40\u001b[0m \u001b[1;33m\u001b[0m\u001b[0m\n\u001b[0;32m     41\u001b[0m         \u001b[0mlinks\u001b[0m \u001b[1;33m=\u001b[0m \u001b[1;33m[\u001b[0m\u001b[1;33m]\u001b[0m\u001b[1;33m\u001b[0m\u001b[1;33m\u001b[0m\u001b[0m\n",
      "\u001b[1;31mKeyboardInterrupt\u001b[0m: "
     ]
    }
   ],
   "source": [
    "%%time\n",
    "url\n",
    "import timeit\n",
    "\n",
    "for u in url: \n",
    "    acquire_pdf(u, create_cache=True)"
   ]
  }
 ],
 "metadata": {
  "kernelspec": {
   "display_name": "Python 3",
   "language": "python",
   "name": "python3"
  },
  "language_info": {
   "codemirror_mode": {
    "name": "ipython",
    "version": 3
   },
   "file_extension": ".py",
   "mimetype": "text/x-python",
   "name": "python",
   "nbconvert_exporter": "python",
   "pygments_lexer": "ipython3",
   "version": "3.7.9"
  }
 },
 "nbformat": 4,
 "nbformat_minor": 5
}
